{
 "cells": [
  {
   "cell_type": "markdown",
   "metadata": {},
   "source": [
    "# Projeto Robo Seguidor de Linha usando OpenCV\n",
    "## Type Robot: Robo OBR Resgate\n",
    "### Comunidade: BigRobot  \n",
    "#### Projetistas: Debora, Juan e Daniel\n"
   ]
  },
  {
   "cell_type": "markdown",
   "metadata": {},
   "source": [
    "### Sumario \n",
    "\n",
    "1. Instalação do Ubuntu Mate\n",
    "2. Instalação e configuração do OpenCV \n",
    "3. Instalação do Arduino\n",
    "4. Programando OpenCV usando Simulação\n",
    "5. Circuito eletronico do Robo\n",
    "6. Programando no arduino\n",
    "7. Topologia da rede\n",
    "8. Usando SSH para acesso remoto no robo\n",
    "\n",
    "\n"
   ]
  },
  {
   "cell_type": "markdown",
   "metadata": {},
   "source": [
    "## Instalanção do Ubuntu Mate"
   ]
  },
  {
   "cell_type": "markdown",
   "metadata": {},
   "source": [
    "##  Instalação e configuração do OpenCV\n",
    "### Dependencias necessarias "
   ]
  },
  {
   "cell_type": "markdown",
   "metadata": {},
   "source": [
    "terminal@terminal$ sudo apt-get install -y build-essential cmake pkg-config\n",
    "\n",
    "terminal@terminal$ sudo apt-get install -y libjpeg-dev libtiff5-dev libjasper-dev libpng12-dev\n",
    "\n",
    "terminal@terminal$ sudo apt-get install -y libavcodec-dev libavformat-dev libswscale-dev libv4l-dev\n",
    "\n",
    "terminal@terminal$ sudo apt-get install -y libxvidcore-dev libx264-dev\n",
    "\n",
    "terminal@terminal$ sudo apt-get install -y libgtk2.0-dev\n",
    "\n",
    "terminal@terminal$ sudo apt-get install -y libatlas-base-dev gfortran\n",
    "\n",
    "terminal@terminal$ sudo apt-get install -y python2.7-dev python3-dev\n"
   ]
  },
  {
   "cell_type": "markdown",
   "metadata": {},
   "source": [
    "#### Faça Download da opencv usando wget ainda no terminal, depois usando unzip extraia "
   ]
  },
  {
   "cell_type": "markdown",
   "metadata": {},
   "source": [
    "#### terminal@terminal $ wget -O opencv.zip https://github.com/Itseez/opencv/archive/3.1.0.zip\n",
    "\n",
    "#### terminal@terminal $ unzip opencv.zip\n"
   ]
  },
  {
   "cell_type": "markdown",
   "metadata": {},
   "source": [
    "### Faça download da opencv contrib e extraia usando unzip "
   ]
  },
  {
   "cell_type": "markdown",
   "metadata": {},
   "source": [
    "#### terminal@terminal $ wget -O opencv_contrib.zip https://github.com/Itseez/opencv_contrib/archive/3.1.0.zip\n",
    "\n",
    "#### terminal@terminal $ unzip opencv_contrib.zip"
   ]
  },
  {
   "cell_type": "markdown",
   "metadata": {},
   "source": [
    "#### Use o pip para instalar a biblioteca numpy no python"
   ]
  },
  {
   "cell_type": "markdown",
   "metadata": {},
   "source": [
    "#### terminal@terminal $ pip install numpy"
   ]
  },
  {
   "cell_type": "markdown",
   "metadata": {},
   "source": [
    "### Inicie o processo de compilar o OpenCV "
   ]
  },
  {
   "cell_type": "markdown",
   "metadata": {},
   "source": [
    "#### terminal@terminal $ cd ~\n",
    "\n",
    "#### terminal@terminal $ cd ~/opencv-3.1.0/\n",
    "\n",
    "#### terminal@terminal $ mkdir build\n",
    "\n",
    "#### terminal@terminal $ cd build\n",
    "\n",
    "-  terminal@terminal $ cmake -D CMAKE_BUILD_TYPE=RELEASE \\\n",
    "    -D CMAKE_INSTALL_PREFIX=/usr/local \\    \n",
    "    -D INSTALL_PYTHON_EXAMPLES=ON \\    \n",
    "    -D OPENCV_EXTRA_MODULES_PATH=~/opencv_contrib-3.1.0/modules \\    \n",
    "    -D BUILD_EXAMPLES=ON \\    \n",
    "    -DENABLE_PRECOMPILED_HEADERS=OFF .. #test lesk test ..\n",
    "    \n",
    "\n",
    "\n",
    "#### terminal@terminal $ make -j2\n",
    "\n",
    "#### terminal@terminal $ sudo make install\n",
    "\n",
    "#### terminal@terminal $ sudo ldconfig\n"
   ]
  },
  {
   "cell_type": "markdown",
   "metadata": {},
   "source": [
    "## Instalação do Arduino"
   ]
  },
  {
   "cell_type": "markdown",
   "metadata": {},
   "source": [
    "## Programando OpenCV usando Simulação "
   ]
  },
  {
   "cell_type": "markdown",
   "metadata": {},
   "source": [
    "#### Importando bibliotecas "
   ]
  },
  {
   "cell_type": "code",
   "execution_count": 10,
   "metadata": {},
   "outputs": [],
   "source": [
    "import cv2\n",
    "import numpy as np"
   ]
  },
  {
   "cell_type": "code",
   "execution_count": null,
   "metadata": {},
   "outputs": [],
   "source": []
  },
  {
   "cell_type": "code",
   "execution_count": null,
   "metadata": {},
   "outputs": [],
   "source": [
    "LimiarBinarizacao = 125       #este valor eh empirico. Ajuste-o conforme sua necessidade \n",
    "AreaContornoLimiteMin = 5000  #este valor eh empirico. Ajuste-o conforme sua necessidade "
   ]
  },
  {
   "cell_type": "code",
   "execution_count": 9,
   "metadata": {},
   "outputs": [],
   "source": [
    "#Funcao: trata imagem e retorna se o robo seguidor de linha deve ir para a esqueda ou direita\n",
    "#Parametros: frame capturado da webcam e primeiro frame capturado\n",
    "#Retorno: < 0: robo deve ir para a direita\n",
    "#         > 0: robo deve ir para a esquerda\n",
    "#         0:   nada deve ser feito\n",
    "def TrataImagem(img):\n",
    "    #obtencao das dimensoes da imagem\n",
    "    height = np.size(img,0)\n",
    "    width= np.size(img,1)\n",
    "    QtdeContornos = 0\n",
    "    DirecaoASerTomada = 0\n",
    "    \n",
    "    #tratamento da imagem\n",
    "    gray = cv2.cvtColor(img,cv2.COLOR_BGR2GRAY)\n",
    "    gray = cv2.GaussianBlur(gray, (21, 21), 0)\n",
    "    FrameBinarizado = cv2.threshold(gray,LimiarBinarizacao,255,cv2.THRESH_BINARY)[1]\n",
    "    FrameBinarizado = cv2.dilate(FrameBinarizado,None,iterations=2)\n",
    "    FrameBinarizado = cv2.bitwise_not(FrameBinarizado)\n",
    "    \n",
    "    _, cnts, _ = cv2.findContours(FrameBinarizado.copy(), cv2.RETR_EXTERNAL, cv2.CHAIN_APPROX_SIMPLE)\n",
    "    cv2.drawContours(img,cnts,-1,(255,0,255),3)\n",
    "\n",
    "    for c in cnts:\n",
    "\t    if cv2.contourArea(c) < AreaContornoLimiteMin:\n",
    "        \tcontinue\n",
    "            \n",
    "            QtdeContornos = QtdeContornos + 1\n",
    "\n",
    "\t    (x, y, w, h) = cv2.boundingRect(c)   #x e y: coordenadas do vertice superior esquerdo\n",
    "\t                                         #w e h: respectivamente largura e altura do retangulo\n",
    "\n",
    "            cv2.rectangle(img, (x, y), (x + w, y + h), (0, 255, 0), 2)\n",
    "\t\n",
    "\t    CoordenadaXCentroContorno = (x+x+w)/2\n",
    "\t    CoordenadaYCentroContorno = (y+y+h)/2\n",
    "\t    PontoCentralContorno = (CoordenadaXCentroContorno,CoordenadaYCentroContorno)\n",
    "\t    cv2.circle(img, PontoCentralContorno, 1, (0, 0, 0), 5)\n",
    "        \n",
    "    \t    DirecaoASerTomada = CoordenadaXCentroContorno - (width/2)   #em relacao a linha central\n",
    "     \n",
    "    #output da imagem\n",
    "    #linha em azul: linha central / referencia\n",
    "    #linha em verde: linha que mostra distancia entre linha e a referencia\n",
    "    cv2.line(img,(width/2,0),(width/2,height),(255,0,0),2)\n",
    "    \n",
    "    if (QtdeContornos > 0):\n",
    "        cv2.line(img,PontoCentralContorno,(width/2,CoordenadaYCentroContorno),(0,255,0),1)\n",
    "    \n",
    "    cv2.imshow('Analise de rota DA OBR',img)\n",
    "    cv2.waitKey(10)\n",
    "    return DirecaoASerTomada, QtdeContornos\n",
    "\n",
    "\n"
   ]
  },
  {
   "cell_type": "code",
   "execution_count": null,
   "metadata": {},
   "outputs": [],
   "source": [
    "#Programa principal\n",
    "\n",
    "\n",
    "camera = cv2.VideoCapture(\"simulacao.mp4\")\n",
    "camera.set(3,320)\n",
    "camera.set(4,240)\n",
    "\n",
    "#faz algumas leituras de frames antes de consierar a analise\n",
    "#motivo: algumas camera podem demorar mais para se \"acosumar a luminosidade\" quando ligam, capturando frames consecutivos com muita variacao de luminosidade. Para nao levar este efeito ao processamento de imagem, capturas sucessivas sao feitas fora do processamento da imagem, dando tempo para a camera \"se acostumar\" a luminosidade do ambiente\n",
    "for i in range(0,20):\n",
    "    (grabbed, Frame) = camera.read()"
   ]
  },
  {
   "cell_type": "code",
   "execution_count": null,
   "metadata": {},
   "outputs": [],
   "source": [
    "\n",
    "while True:\n",
    "    try:\n",
    "      (grabbed, Frame) = camera.read()\n",
    "      if cv2.waitKey(1) & 0xFF == ord('q'):\n",
    "            break\n",
    "      if (grabbed):\n",
    "          Direcao,QtdeLinhas = TrataImagem(Frame)\n",
    "          if (QtdeLinhas == 0):\n",
    "             print \"Nenhuma linha encontrada. O robo ira parar.\"\n",
    "             continue\n",
    "        \n",
    "          if (Direcao > 0):\n",
    "              print \"Distancia da linha de referencia: \"+str(abs(Direcao))+\" pixels a [DIREITA]\"\n",
    "          if (Direcao < 0):\n",
    "              print \"Distancia da linha de referencia: \"+str(abs(Direcao))+\" pixels a [ESQUERDA]\"      \n",
    "          if (Direcao == 0):\n",
    "              print \"Exatamente na linha de referencia!\"      \n",
    "    except (KeyboardInterrupt):\n",
    "          print \"STOP MODA FOCA\"\n",
    "          break;\n",
    "exit(1)   \n"
   ]
  },
  {
   "cell_type": "markdown",
   "metadata": {},
   "source": [
    "## Circuito eletronico do Robo"
   ]
  },
  {
   "cell_type": "markdown",
   "metadata": {},
   "source": [
    "## Programando no arduino\n"
   ]
  },
  {
   "cell_type": "markdown",
   "metadata": {},
   "source": [
    "## Topologia da rede\n"
   ]
  },
  {
   "cell_type": "markdown",
   "metadata": {},
   "source": [
    "## Usando SSH para acesso remoto no robo"
   ]
  },
  {
   "cell_type": "code",
   "execution_count": null,
   "metadata": {},
   "outputs": [],
   "source": []
  }
 ],
 "metadata": {
  "kernelspec": {
   "display_name": "Python 2",
   "language": "python",
   "name": "python2"
  },
  "language_info": {
   "codemirror_mode": {
    "name": "ipython",
    "version": 2
   },
   "file_extension": ".py",
   "mimetype": "text/x-python",
   "name": "python",
   "nbconvert_exporter": "python",
   "pygments_lexer": "ipython2",
   "version": "2.7.15rc1"
  }
 },
 "nbformat": 4,
 "nbformat_minor": 2
}
