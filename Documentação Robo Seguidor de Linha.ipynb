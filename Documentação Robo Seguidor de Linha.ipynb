{
 "cells": [
  {
   "cell_type": "markdown",
   "metadata": {},
   "source": [
    "# Projeto Robo Seguidor de Linha usando OpenCV\n",
    "## Type Robot: Robo OBR Resgate\n",
    "### Comunidade: BigRobot  \n",
    "#### Projetistas: Debora, Juan e Daniel\n"
   ]
  },
  {
   "cell_type": "markdown",
   "metadata": {},
   "source": [
    "### Sumario \n",
    "\n",
    "1. Instalação do Ubuntu Mate\n",
    "2. Instalação e configuração do OpenCV \n",
    "3. Instalação do Arduino\n",
    "4. Programando OpenCV usando Simulação\n",
    "5. Circuito eletronico do Robo\n",
    "6. Programando no arduino\n",
    "7. Topologia da rede\n",
    "8. Usando SSH para acesso remoto no robo\n",
    "\n",
    "\n"
   ]
  },
  {
   "cell_type": "markdown",
   "metadata": {},
   "source": [
    "## Instalanção do Ubuntu Mate"
   ]
  },
  {
   "cell_type": "markdown",
   "metadata": {},
   "source": [
    "##  Instalação e configuração do OpenCV\n",
    "### Dependencias necessarias "
   ]
  },
  {
   "cell_type": "markdown",
   "metadata": {},
   "source": [
    "terminal@terminal$ sudo apt-get install -y build-essential cmake pkg-config\n",
    "\n",
    "terminal@terminal$ sudo apt-get install -y libjpeg-dev libtiff5-dev libjasper-dev libpng12-dev\n",
    "\n",
    "terminal@terminal$ sudo apt-get install -y libavcodec-dev libavformat-dev libswscale-dev libv4l-dev\n",
    "\n",
    "terminal@terminal$ sudo apt-get install -y libxvidcore-dev libx264-dev\n",
    "\n",
    "terminal@terminal$ sudo apt-get install -y libgtk2.0-dev\n",
    "\n",
    "terminal@terminal$ sudo apt-get install -y libatlas-base-dev gfortran\n",
    "\n",
    "terminal@terminal$ sudo apt-get install -y python2.7-dev python3-dev\n"
   ]
  },
  {
   "cell_type": "markdown",
   "metadata": {},
   "source": [
    "#### Faça Download da opencv usando wget ainda no terminal, depois usando unzip extraia "
   ]
  },
  {
   "cell_type": "markdown",
   "metadata": {},
   "source": [
    "#### terminal@terminal $ wget -O opencv.zip https://github.com/Itseez/opencv/archive/3.1.0.zip\n",
    "\n",
    "#### terminal@terminal $ unzip opencv.zip\n"
   ]
  },
  {
   "cell_type": "markdown",
   "metadata": {},
   "source": [
    "### Faça download da opencv contrib e extraia usando unzip "
   ]
  },
  {
   "cell_type": "markdown",
   "metadata": {},
   "source": [
    "#### terminal@terminal $ wget -O opencv_contrib.zip https://github.com/Itseez/opencv_contrib/archive/3.1.0.zip\n",
    "\n",
    "#### terminal@terminal $ unzip opencv_contrib.zip"
   ]
  },
  {
   "cell_type": "markdown",
   "metadata": {},
   "source": [
    "#### Use o pip para instalar a biblioteca numpy no python"
   ]
  },
  {
   "cell_type": "markdown",
   "metadata": {},
   "source": [
    "#### terminal@terminal $ pip install numpy"
   ]
  },
  {
   "cell_type": "markdown",
   "metadata": {},
   "source": [
    "### Inicie o processo de compilar o OpenCV "
   ]
  },
  {
   "cell_type": "markdown",
   "metadata": {},
   "source": [
    "#### terminal@terminal $ cd ~\n",
    "\n",
    "#### terminal@terminal $ cd ~/opencv-3.1.0/\n",
    "\n",
    "#### terminal@terminal $ mkdir build\n",
    "\n",
    "#### terminal@terminal $ cd build\n",
    "\n",
    "-  terminal@terminal $ cmake -D CMAKE_BUILD_TYPE=RELEASE \\\n",
    "    -D CMAKE_INSTALL_PREFIX=/usr/local \\    \n",
    "    -D INSTALL_PYTHON_EXAMPLES=ON \\    \n",
    "    -D OPENCV_EXTRA_MODULES_PATH=~/opencv_contrib-3.1.0/modules \\    \n",
    "    -D BUILD_EXAMPLES=ON \\    \n",
    "    -DENABLE_PRECOMPILED_HEADERS=OFF .. #test lesk test ..\n",
    "    \n",
    "\n",
    "\n",
    "#### terminal@terminal $ make -j2\n",
    "\n",
    "#### terminal@terminal $ sudo make install\n",
    "\n",
    "#### terminal@terminal $ sudo ldconfig\n"
   ]
  },
  {
   "cell_type": "markdown",
   "metadata": {},
   "source": [
    "## Instalação do Arduino"
   ]
  },
  {
   "cell_type": "markdown",
   "metadata": {},
   "source": [
    "## Programando OpenCV usando Simulação "
   ]
  },
  {
   "cell_type": "markdown",
   "metadata": {},
   "source": [
    "#### Importando bibliotecas "
   ]
  },
  {
   "cell_type": "code",
   "execution_count": 2,
   "metadata": {},
   "outputs": [],
   "source": [
    "import cv2\n",
    "import numpy as np"
   ]
  },
  {
   "cell_type": "markdown",
   "metadata": {},
   "source": [
    "#### Valores de ajustes empiricos"
   ]
  },
  {
   "cell_type": "code",
   "execution_count": 3,
   "metadata": {},
   "outputs": [],
   "source": [
    "LimiarBinarizacao = 125       #este valor eh empirico. Ajuste-o conforme sua necessidade \n",
    "AreaContornoLimiteMin = 5000  #este valor eh empirico. Ajuste-o conforme sua necessidade "
   ]
  },
  {
   "cell_type": "markdown",
   "metadata": {},
   "source": [
    "#### Função de Tratar Imagem há entrada do parametro é a captura do Frame enviado pela webcam, a função gera uma saida de > 0: direita; se for retorno < 0: esquerda; se retornar 0 deve ficar parado."
   ]
  },
  {
   "cell_type": "code",
   "execution_count": 9,
   "metadata": {},
   "outputs": [],
   "source": [
    "#Funcao: trata imagem e retorna se o robo seguidor de linha deve ir para a esqueda ou direita\n",
    "#Parametros: frame capturado da webcam e primeiro frame capturado\n",
    "#Retorno: < 0: robo deve ir para a direita\n",
    "#         > 0: robo deve ir para a esquerda\n",
    "#         0:   nada deve ser feito\n",
    "def TrataImagem(img):\n",
    "    #obtencao das dimensoes da imagem\n",
    "    height = np.size(img,0)\n",
    "    width= np.size(img,1)\n",
    "    QtdeContornos = 0\n",
    "    DirecaoASerTomada = 0\n",
    "    \n",
    "    #tratamento da imagem\n",
    "    gray = cv2.cvtColor(img,cv2.COLOR_BGR2GRAY)\n",
    "    gray = cv2.GaussianBlur(gray, (21, 21), 0)\n",
    "    FrameBinarizado = cv2.threshold(gray,LimiarBinarizacao,255,cv2.THRESH_BINARY)[1]\n",
    "    FrameBinarizado = cv2.dilate(FrameBinarizado,None,iterations=2)\n",
    "    FrameBinarizado = cv2.bitwise_not(FrameBinarizado)\n",
    "    \n",
    "    _, cnts, _ = cv2.findContours(FrameBinarizado.copy(), cv2.RETR_EXTERNAL, cv2.CHAIN_APPROX_SIMPLE)\n",
    "    cv2.drawContours(img,cnts,-1,(255,0,255),3)\n",
    "\n",
    "    for c in cnts:\n",
    "        if cv2.contourArea(c) < AreaContornoLimiteMin:\n",
    "            continue\n",
    "            QtdeContornos = QtdeContornos + 1\n",
    "\n",
    "        (x, y, w, h) = cv2.boundingRect(c)                                  \n",
    "        cv2.rectangle(img, (x, y), (x + w, y + h), (0, 255, 0), 2)    \n",
    "        CoordenadaXCentroContorno = (x+x+w)/2\n",
    "        CoordenadaYCentroContorno = (y+y+h)/2\n",
    "        PontoCentralContorno = (CoordenadaXCentroContorno,CoordenadaYCentroContorno)\n",
    "        cv2.circle(img, PontoCentralContorno, 1, (0, 0, 0), 5)        \n",
    "        DirecaoASerTomada = CoordenadaXCentroContorno - (width/2)   #em relacao a linha central\n",
    "     \n",
    "    #output da imagem\n",
    "    #linha em azul: linha central / referencia\n",
    "    #linha em verde: linha que mostra distancia entre linha e a referencia\n",
    "    cv2.line(img,(width/2,0),(width/2,height),(255,0,0),2)\n",
    "    \n",
    "    if (QtdeContornos > 0):\n",
    "        cv2.line(img,PontoCentralContorno,(width/2,CoordenadaYCentroContorno),(0,255,0),1)\n",
    "    \n",
    "    cv2.imshow('Analise de rota DA OBR',img)\n",
    "    cv2.waitKey(10)\n",
    "    return DirecaoASerTomada, QtdeContornos\n",
    "\n",
    "\n"
   ]
  },
  {
   "cell_type": "markdown",
   "metadata": {},
   "source": [
    "#### Aqui setamos o programa para fazer captura dos dados da simulação.mp4, um dos motivos para  rodar o for é calibrar a entrada da camera"
   ]
  },
  {
   "cell_type": "code",
   "execution_count": 10,
   "metadata": {},
   "outputs": [],
   "source": [
    "#Programa principal\n",
    "\n",
    "\n",
    "camera = cv2.VideoCapture(\"simulacao.mp4\")\n",
    "camera.set(3,320)\n",
    "camera.set(4,240)\n",
    "\n",
    "#faz algumas leituras de frames antes de consierar a analise\n",
    "#motivo: algumas camera podem demorar mais para se \"acosumar a luminosidade\" quando ligam, capturando frames consecutivos com muita variacao de luminosidade. Para nao levar este efeito ao processamento de imagem, capturas sucessivas sao feitas fora do processamento da imagem, dando tempo para a camera \"se acostumar\" a luminosidade do ambiente\n",
    "for i in range(0,20):\n",
    "    (grabbed, Frame) = camera.read()"
   ]
  },
  {
   "cell_type": "markdown",
   "metadata": {},
   "source": [
    "#### Inicio do Loop capturando frame pela função do metodo camera.read(), após a entrada de TrataImagem ele gera uma quantidade de linhas e uma direção \n",
    "* se Direcão > 0: Direita\n",
    "* se DirecãO < 0: Esquerda\n",
    "* se Direcão == 0: Exatamente na referencia"
   ]
  },
  {
   "cell_type": "code",
   "execution_count": 12,
   "metadata": {},
   "outputs": [
    {
     "name": "stdout",
     "output_type": "stream",
     "text": [
      "STOP MODA FOCA\n"
     ]
    }
   ],
   "source": [
    "while True:\n",
    "    try:\n",
    "      (grabbed, Frame) = camera.read()\n",
    "      if cv2.waitKey(1) & 0xFF == ord('q'):\n",
    "            break\n",
    "      if (grabbed):\n",
    "          Direcao,QtdeLinhas = TrataImagem(Frame)\n",
    "          if (QtdeLinhas == 0):\n",
    "             print (\"Nenhuma linha encontrada. O robo ira parar.\")\n",
    "             continue\n",
    "        \n",
    "          if (Direcao > 0):\n",
    "              print (\"Distancia da linha de referencia: \"+str(abs(Direcao))+\" pixels a [DIREITA]\")\n",
    "          if (Direcao < 0):\n",
    "              print (\"Distancia da linha de referencia: \"+str(abs(Direcao))+\" pixels a [ESQUERDA]\")      \n",
    "          if (Direcao == 0):\n",
    "              print (\"Exatamente na linha de referencia!\")\n",
    "    except (KeyboardInterrupt):\n",
    "          print (\"STOP MODA FOCA\")\n",
    "          break;\n",
    "exit(1)   \n"
   ]
  },
  {
   "cell_type": "markdown",
   "metadata": {},
   "source": [
    "### Video de test \n",
    "#### PS:  Este video de teste tem como objetivo de testar o sistema de visão computacional antes de rodar ele direto na pista para ver como o algoritmo se comporta\n"
   ]
  },
  {
   "cell_type": "code",
   "execution_count": 21,
   "metadata": {},
   "outputs": [
    {
     "data": {
      "text/html": [
       "<video width=\"320\" height=\"240\" controls><source src=\"simulacao.mp4\" type=\"video/mp4\"></video>\n",
       "<video width=\"320\" height=\"240\" controls><source src=\"simulacao_opencv.mp4\" type=\"video/mp4\"></video>"
      ],
      "text/plain": [
       "<IPython.core.display.HTML object>"
      ]
     },
     "metadata": {},
     "output_type": "display_data"
    }
   ],
   "source": [
    "%%HTML \n",
    "<video width=\"320\" height=\"240\" controls><source src=\"simulacao.mp4\" type=\"video/mp4\"></video>\n",
    "<video width=\"320\" height=\"240\" controls><source src=\"simulacao_opencv.mp4\" type=\"video/mp4\"></video>"
   ]
  },
  {
   "cell_type": "markdown",
   "metadata": {},
   "source": [
    "## Circuito eletronico do Robo\n",
    "\n",
    "* 1x Arduino \n",
    "* 2x Motores DC \n",
    "* 4X Modulo rele \n",
    "* 1x Raspberry\n",
    "* 1x Camera USB\n",
    "* 1x PowerBank 5v\n",
    "* 1x Bateria 6v Chumbo\n"
   ]
  },
  {
   "cell_type": "code",
   "execution_count": 1,
   "metadata": {},
   "outputs": [
    {
     "ename": "NameError",
     "evalue": "name 'Image' is not defined",
     "output_type": "error",
     "traceback": [
      "\u001b[0;31m---------------------------------------------------------------------------\u001b[0m",
      "\u001b[0;31mNameError\u001b[0m                                 Traceback (most recent call last)",
      "\u001b[0;32m<ipython-input-1-f3eeaa4923e0>\u001b[0m in \u001b[0;36m<module>\u001b[0;34m()\u001b[0m\n\u001b[0;32m----> 1\u001b[0;31m \u001b[0mImage\u001b[0m\u001b[0;34m(\u001b[0m\u001b[0;34m)\u001b[0m\u001b[0;34m\u001b[0m\u001b[0m\n\u001b[0m",
      "\u001b[0;31mNameError\u001b[0m: name 'Image' is not defined"
     ]
    }
   ],
   "source": [
    "Image(\"../\")\n"
   ]
  },
  {
   "cell_type": "markdown",
   "metadata": {},
   "source": [
    "## Programando no arduino\n"
   ]
  },
  {
   "cell_type": "markdown",
   "metadata": {},
   "source": [
    "## Topologia da rede\n"
   ]
  },
  {
   "cell_type": "markdown",
   "metadata": {},
   "source": [
    "## Usando SSH para acesso remoto no robo"
   ]
  },
  {
   "cell_type": "code",
   "execution_count": null,
   "metadata": {},
   "outputs": [],
   "source": []
  }
 ],
 "metadata": {
  "kernelspec": {
   "display_name": "Python 3",
   "language": "python",
   "name": "python3"
  },
  "language_info": {
   "codemirror_mode": {
    "name": "ipython",
    "version": 3
   },
   "file_extension": ".py",
   "mimetype": "text/x-python",
   "name": "python",
   "nbconvert_exporter": "python",
   "pygments_lexer": "ipython3",
   "version": "3.6.5"
  }
 },
 "nbformat": 4,
 "nbformat_minor": 2
}
