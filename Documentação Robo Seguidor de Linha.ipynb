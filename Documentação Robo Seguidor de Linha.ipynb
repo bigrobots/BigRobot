{
 "cells": [
  {
   "cell_type": "markdown",
   "metadata": {},
   "source": [
    "# Projeto Robo Seguidor de Linha usando OpenCV\n",
    "## Type Robot: Robo OBR Resgate\n",
    "### Comunidade: BigRobot  \n",
    "#### Projetistas: Debora, Juan e Daniel\n"
   ]
  },
  {
   "cell_type": "markdown",
   "metadata": {},
   "source": [
    "### Sumario \n",
    "\n",
    "1. Instalação do Ubuntu Mate\n",
    "2. Instalação e configuração do OpenCV \n",
    "3. Instalação do Arduino\n",
    "4. Programando OpenCV usando Simulação\n",
    "5. Circuito eletronico do Robo\n",
    "6. Programando no arduino\n",
    "7. Topologia da rede\n",
    "8. Usando SSH para acesso remoto no robo\n",
    "\n",
    "\n"
   ]
  },
  {
   "cell_type": "markdown",
   "metadata": {},
   "source": [
    "## Instalanção do Ubuntu Mate"
   ]
  },
  {
   "cell_type": "markdown",
   "metadata": {},
   "source": [
    "##  Instalação e configuração do OpenCV"
   ]
  },
  {
   "cell_type": "markdown",
   "metadata": {},
   "source": [
    "## "
   ]
  }
 ],
 "metadata": {
  "kernelspec": {
   "display_name": "Python 2",
   "language": "python",
   "name": "python2"
  },
  "language_info": {
   "codemirror_mode": {
    "name": "ipython",
    "version": 2
   },
   "file_extension": ".py",
   "mimetype": "text/x-python",
   "name": "python",
   "nbconvert_exporter": "python",
   "pygments_lexer": "ipython2",
   "version": "2.7.15rc1"
  }
 },
 "nbformat": 4,
 "nbformat_minor": 2
}
